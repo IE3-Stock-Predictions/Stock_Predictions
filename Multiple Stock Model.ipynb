{
 "cells": [
  {
   "cell_type": "code",
   "execution_count": 2,
   "metadata": {},
   "outputs": [
    {
     "name": "stderr",
     "output_type": "stream",
     "text": [
      "Using TensorFlow backend.\n"
     ]
    }
   ],
   "source": [
    "import pandas as pd\n",
    "import matplotlib.pyplot as plt\n",
    "import numpy as np\n",
    "import seaborn as sns\n",
    "import math\n",
    "from keras.models import Sequential\n",
    "from keras.layers import Dense\n",
    "from keras.layers import LSTM\n",
    "from sklearn.preprocessing import MinMaxScaler\n",
    "from sklearn.preprocessing import LabelEncoder\n",
    "from sklearn.metrics import mean_squared_error"
   ]
  },
  {
   "cell_type": "code",
   "execution_count": 3,
   "metadata": {},
   "outputs": [],
   "source": [
    "stocks = pd.read_csv(\"~/Stock_Prediction_ML/StockPredictions/Stock_Predictions/data/S&P_500_GOOGFIN_3MO.csv\")"
   ]
  },
  {
   "cell_type": "code",
   "execution_count": 4,
   "metadata": {},
   "outputs": [],
   "source": [
    "def get_stock_data(name):\n",
    "    return stocks.loc[stocks['Stock'] == name]"
   ]
  },
  {
   "cell_type": "code",
   "execution_count": 5,
   "metadata": {},
   "outputs": [],
   "source": [
    "def series_to_supervised(data, n_in=1, n_out=1, dropnan=True):\n",
    "    n_vars = 1 if type(data) is list else data.shape[1]\n",
    "    df = pd.DataFrame(data)\n",
    "    cols, names = list(), list()\n",
    "    # input sequence (t-n, ... t-1)\n",
    "    for i in range(n_in, 0, -1):\n",
    "        cols.append(df.shift(i))\n",
    "        names += [('var%d(t-%d)' % (j+1, i)) for j in range(n_vars)]\n",
    "    # forecast sequence (t, t+1, ... t+n)\n",
    "    for i in range(0, n_out):\n",
    "        cols.append(df.shift(-i))\n",
    "        if i == 0:\n",
    "            names += [('var%d(t)' % (j+1)) for j in range(n_vars)]\n",
    "        else:\n",
    "            names += [('var%d(t+%d)' % (j+1, i)) for j in range(n_vars)]\n",
    "    # put it all together\n",
    "    agg = pd.concat(cols, axis=1)\n",
    "    agg.columns = names\n",
    "    # drop rows with NaN values\n",
    "    if dropnan:\n",
    "        agg.dropna(inplace=True)\n",
    "    return agg"
   ]
  },
  {
   "cell_type": "code",
   "execution_count": 17,
   "metadata": {},
   "outputs": [
    {
     "name": "stdout",
     "output_type": "stream",
     "text": [
      "         Open    High     Low   Close   Volume   ID\n",
      "Date                                               \n",
      "43756   74.00   74.82   73.77   74.57  2121895    0\n",
      "43759   74.88   75.51   74.69   75.48  1739523    0\n",
      "43760   75.68   76.33   74.64   74.69  1327981    0\n",
      "43761   75.02   75.89   74.68   74.98  1828337    0\n",
      "43762   75.03   75.11   74.46   75.00  1582478    0\n",
      "...       ...     ...     ...     ...      ...  ...\n",
      "43843  136.07  136.75  135.46  136.51  1801255  514\n",
      "43844  136.42  137.28  135.52  137.27  1848833  514\n",
      "43845  137.41  139.00  137.34  138.54  1859576  514\n",
      "43846  138.78  139.40  138.02  139.24  1822882  514\n",
      "43847  139.62  140.40  138.86  140.16  1993175  514\n",
      "\n",
      "[31815 rows x 6 columns]\n"
     ]
    }
   ],
   "source": [
    "u_stocks = np.unique(stocks['Stock'])\n",
    "labels, uniques = pd.factorize(stocks['Stock'])\n",
    "labels.transpose\n",
    "stocks['ID'] = labels\n",
    "stocks_id = stocks.drop(['Stock'], axis = 1)\n",
    "stocks_id = stocks_id.set_index('Date')\n",
    "print(stocks_id)"
   ]
  },
  {
   "cell_type": "code",
   "execution_count": 18,
   "metadata": {},
   "outputs": [],
   "source": [
    "stocks_val = stocks_id.values\n",
    "stocks_val = stocks_val.astype('float64')"
   ]
  },
  {
   "cell_type": "code",
   "execution_count": 20,
   "metadata": {},
   "outputs": [
    {
     "data": {
      "image/png": "[encoded data removed]",
      "text/plain": [
       "<Figure size 432x288 with 5 Axes>"
      ]
     },
     "metadata": {
      "needs_background": "light"
     },
     "output_type": "display_data"
    }
   ],
   "source": [
    "groups = [0, 1, 2, 3, 4]\n",
    "i = 1\n",
    "plt.figure()\n",
    "for group in groups:\n",
    "    plt.subplot(len(groups), 1, i)\n",
    "    plt.plot(stocks_val[:, group])\n",
    "    plt.title(stocks_id.columns[group], y=0.5, loc='right')\n",
    "    i += 1\n",
    "plt.show()"
   ]
  },
  {
   "cell_type": "code",
   "execution_count": 24,
   "metadata": {},
   "outputs": [
    {
     "name": "stdout",
     "output_type": "stream",
     "text": [
      "   var1(t-1)  var2(t-1)  var3(t-1)  var4(t-1)  var5(t-1)  var6(t-1)   var1(t)\n",
      "1   0.016811   0.016816   0.016925   0.016951   0.009826        0.0  0.017037\n",
      "2   0.017037   0.016991   0.017163   0.017184   0.008055        0.0  0.017243\n",
      "3   0.017243   0.017200   0.017150   0.016981   0.006150        0.0  0.017073\n",
      "4   0.017073   0.017088   0.017161   0.017056   0.008467        0.0  0.017076\n",
      "5   0.017076   0.016890   0.017104   0.017061   0.007328        0.0  0.016991\n"
     ]
    }
   ],
   "source": [
    "scaler = MinMaxScaler(feature_range=(0,1))\n",
    "scaled = scaler.fit_transform(stocks_val)\n",
    "reframed = series_to_supervised(scaled, 1, 1)\n",
    "reframed.drop(reframed.columns[[7, 8, 9, 10, 11]], axis=1, inplace=True)\n",
    "print(reframed.head())"
   ]
  },
  {
   "cell_type": "code",
   "execution_count": 25,
   "metadata": {},
   "outputs": [],
   "source": [
    "values = reframed.values"
   ]
  },
  {
   "cell_type": "code",
   "execution_count": 26,
   "metadata": {},
   "outputs": [],
   "source": [
    "n_train = int(values.shape[0] * 0.67)\n",
    "train = values[:n_train,:]\n",
    "test = values[n_train:,:]"
   ]
  },
  {
   "cell_type": "code",
   "execution_count": 27,
   "metadata": {},
   "outputs": [],
   "source": [
    "X_train, y_train = train[:, :-1], train[:, -1]\n",
    "X_test, y_test = test[:, :-1], test[:, -1]"
   ]
  },
  {
   "cell_type": "code",
   "execution_count": 28,
   "metadata": {},
   "outputs": [
    {
     "name": "stdout",
     "output_type": "stream",
     "text": [
      "(21315, 1, 6) (21315,) (10499, 1, 6) (10499,)\n"
     ]
    }
   ],
   "source": [
    "X_train = X_train.reshape((X_train.shape[0], 1, X_train.shape[1]))\n",
    "X_test = X_test.reshape((X_test.shape[0], 1, X_test.shape[1]))\n",
    "print(X_train.shape, y_train.shape, X_test.shape, y_test.shape)"
   ]
  },
  {
   "cell_type": "code",
   "execution_count": 29,
   "metadata": {},
   "outputs": [
    {
     "name": "stdout",
     "output_type": "stream",
     "text": [
      "Train on 21315 samples, validate on 10499 samples\n",
      "Epoch 1/50\n",
      " - 6s - loss: 0.0045 - val_loss: 0.0073\n",
      "Epoch 2/50\n",
      " - 5s - loss: 0.0028 - val_loss: 0.0025\n",
      "Epoch 3/50\n",
      " - 5s - loss: 0.0020 - val_loss: 0.0061\n",
      "Epoch 4/50\n",
      " - 5s - loss: 0.0023 - val_loss: 0.0033\n",
      "Epoch 5/50\n",
      " - 5s - loss: 0.0015 - val_loss: 0.0017\n",
      "Epoch 6/50\n",
      " - 5s - loss: 0.0015 - val_loss: 0.0018\n",
      "Epoch 7/50\n",
      " - 5s - loss: 0.0015 - val_loss: 0.0016\n",
      "Epoch 8/50\n",
      " - 5s - loss: 0.0017 - val_loss: 0.0017\n",
      "Epoch 9/50\n",
      " - 6s - loss: 0.0020 - val_loss: 0.0022\n",
      "Epoch 10/50\n",
      " - 6s - loss: 0.0018 - val_loss: 0.0048\n",
      "Epoch 11/50\n",
      " - 6s - loss: 0.0019 - val_loss: 0.0040\n",
      "Epoch 12/50\n",
      " - 6s - loss: 0.0019 - val_loss: 0.0030\n",
      "Epoch 13/50\n",
      " - 6s - loss: 0.0019 - val_loss: 0.0038\n",
      "Epoch 14/50\n",
      " - 6s - loss: 0.0015 - val_loss: 0.0071\n",
      "Epoch 15/50\n",
      " - 6s - loss: 0.0014 - val_loss: 0.0026\n",
      "Epoch 16/50\n",
      " - 5s - loss: 0.0013 - val_loss: 0.0016\n",
      "Epoch 17/50\n",
      " - 5s - loss: 0.0017 - val_loss: 0.0057\n",
      "Epoch 18/50\n",
      " - 5s - loss: 0.0020 - val_loss: 0.0032\n",
      "Epoch 19/50\n",
      " - 5s - loss: 0.0015 - val_loss: 0.0053\n",
      "Epoch 20/50\n",
      " - 5s - loss: 0.0013 - val_loss: 0.0039\n",
      "Epoch 21/50\n",
      " - 5s - loss: 0.0021 - val_loss: 0.0037\n",
      "Epoch 22/50\n",
      " - 5s - loss: 0.0014 - val_loss: 0.0067\n",
      "Epoch 23/50\n",
      " - 5s - loss: 0.0018 - val_loss: 0.0069\n",
      "Epoch 24/50\n",
      " - 5s - loss: 0.0017 - val_loss: 0.0043\n",
      "Epoch 25/50\n",
      " - 6s - loss: 0.0017 - val_loss: 0.0026\n",
      "Epoch 26/50\n",
      " - 6s - loss: 0.0018 - val_loss: 0.0063\n",
      "Epoch 27/50\n",
      " - 5s - loss: 0.0014 - val_loss: 0.0033\n",
      "Epoch 28/50\n",
      " - 5s - loss: 0.0018 - val_loss: 0.0037\n",
      "Epoch 29/50\n",
      " - 5s - loss: 0.0017 - val_loss: 0.0040\n",
      "Epoch 30/50\n",
      " - 5s - loss: 0.0016 - val_loss: 0.0039\n",
      "Epoch 31/50\n",
      " - 5s - loss: 0.0018 - val_loss: 0.0032\n",
      "Epoch 32/50\n",
      " - 5s - loss: 0.0017 - val_loss: 0.0048\n",
      "Epoch 33/50\n",
      " - 6s - loss: 0.0018 - val_loss: 0.0044\n",
      "Epoch 34/50\n",
      " - 6s - loss: 0.0018 - val_loss: 0.0050\n",
      "Epoch 35/50\n",
      " - 6s - loss: 0.0015 - val_loss: 0.0076\n",
      "Epoch 36/50\n",
      " - 6s - loss: 0.0018 - val_loss: 0.0082\n",
      "Epoch 37/50\n",
      " - 6s - loss: 0.0018 - val_loss: 0.0079\n",
      "Epoch 38/50\n",
      " - 6s - loss: 0.0017 - val_loss: 0.0048\n",
      "Epoch 39/50\n",
      " - 6s - loss: 0.0018 - val_loss: 0.0050\n",
      "Epoch 40/50\n",
      " - 5s - loss: 0.0019 - val_loss: 0.0042\n",
      "Epoch 41/50\n",
      " - 6s - loss: 0.0016 - val_loss: 0.0076\n",
      "Epoch 42/50\n",
      " - 5s - loss: 0.0015 - val_loss: 0.0077\n",
      "Epoch 43/50\n",
      " - 5s - loss: 0.0018 - val_loss: 0.0058\n",
      "Epoch 44/50\n",
      " - 5s - loss: 0.0018 - val_loss: 0.0075\n",
      "Epoch 45/50\n",
      " - 6s - loss: 0.0019 - val_loss: 0.0043\n",
      "Epoch 46/50\n",
      " - 6s - loss: 0.0017 - val_loss: 0.0050\n",
      "Epoch 47/50\n",
      " - 6s - loss: 0.0018 - val_loss: 0.0077\n",
      "Epoch 48/50\n",
      " - 6s - loss: 0.0018 - val_loss: 0.0077\n",
      "Epoch 49/50\n",
      " - 6s - loss: 0.0017 - val_loss: 0.0068\n",
      "Epoch 50/50\n",
      " - 6s - loss: 0.0018 - val_loss: 0.0069\n"
     ]
    },
    {
     "data": {
      "image/png": "[encoded data removed]",
      "text/plain": [
       "<Figure size 432x288 with 1 Axes>"
      ]
     },
     "metadata": {
      "needs_background": "light"
     },
     "output_type": "display_data"
    }
   ],
   "source": [
    "model = Sequential()\n",
    "model.add(LSTM(50, input_shape=(X_train.shape[1], X_train.shape[2])))\n",
    "model.add(Dense(1))\n",
    "model.compile(loss='mae', optimizer='adam')\n",
    "history = model.fit(X_train, y_train, epochs=50, batch_size=20, validation_data=(X_test, y_test), verbose=2,shuffle=False)\n",
    "plt.plot(history.history['loss'], label='train')\n",
    "plt.plot(history.history['val_loss'], label='test')\n",
    "plt.legend()\n",
    "plt.show()"
   ]
  },
  {
   "cell_type": "code",
   "execution_count": null,
   "metadata": {},
   "outputs": [],
   "source": []
  }
 ],
 "metadata": {
  "kernelspec": {
   "display_name": "Python 3",
   "language": "python",
   "name": "python3"
  },
  "language_info": {
   "codemirror_mode": {
    "name": "ipython",
    "version": 3
   },
   "file_extension": ".py",
   "mimetype": "text/x-python",
   "name": "python",
   "nbconvert_exporter": "python",
   "pygments_lexer": "ipython3",
   "version": "3.7.6"
  }
 },
 "nbformat": 4,
 "nbformat_minor": 4
}
