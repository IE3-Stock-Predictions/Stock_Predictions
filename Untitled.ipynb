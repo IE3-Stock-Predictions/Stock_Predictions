{
 "cells": [
  {
   "cell_type": "code",
   "execution_count": 7,
   "metadata": {},
   "outputs": [],
   "source": [
    "import pandas as pd \n",
    "raw_data = pd.read_csv(\"data/S&P_500_GOOGFIN_3MO.csv\")\n"
   ]
  },
  {
   "cell_type": "code",
   "execution_count": 12,
   "metadata": {},
   "outputs": [
    {
     "data": {
      "text/plain": [
       "array([['A', 737351, 74.0, ..., 73.77, 74.57, 2121895],\n",
       "       ['A', 737354, 74.88, ..., 74.69, 75.48, 1739523],\n",
       "       ['A', 737355, 75.68, ..., 74.64, 74.69, 1327981],\n",
       "       ...,\n",
       "       ['ZTS', 737440, 137.41, ..., 137.34, 138.54, 1859576],\n",
       "       ['ZTS', 737441, 138.78, ..., 138.02, 139.24, 1822882],\n",
       "       ['ZTS', 737442, 139.62, ..., 138.86, 140.16, 1993175]],\n",
       "      dtype=object)"
      ]
     },
     "execution_count": 12,
     "metadata": {},
     "output_type": "execute_result"
    }
   ],
   "source": [
    "raw_data.values"
   ]
  },
  {
   "cell_type": "code",
   "execution_count": 15,
   "metadata": {},
   "outputs": [],
   "source": [
    "DATA_PTS_PER_STOCK = 63\n",
    "NUM_OF_STOCKS = 505"
   ]
  },
  {
   "cell_type": "code",
   "execution_count": null,
   "metadata": {},
   "outputs": [],
   "source": [
    "def get_stock_by_name(data, name):    \n",
    "    "
   ]
  }
 ],
 "metadata": {
  "kernelspec": {
   "display_name": "Python 3",
   "language": "python",
   "name": "python3"
  },
  "language_info": {
   "codemirror_mode": {
    "name": "ipython",
    "version": 3
   },
   "file_extension": ".py",
   "mimetype": "text/x-python",
   "name": "python",
   "nbconvert_exporter": "python",
   "pygments_lexer": "ipython3",
   "version": "3.7.6"
  }
 },
 "nbformat": 4,
 "nbformat_minor": 4
}
